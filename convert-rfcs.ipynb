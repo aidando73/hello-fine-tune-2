{
 "cells": [
  {
   "cell_type": "code",
   "execution_count": 7,
   "metadata": {},
   "outputs": [
    {
     "name": "stderr",
     "output_type": "stream",
     "text": [
      "pandoc: ./rfcs/RFC_ Accept 35 rent raise with Living High if they allow a fixed term contract.docx: withBinaryFile: does not exist (No such file or directory)\n",
      "HasCallStack backtrace:\n",
      "  collectBacktraces, called at libraries/ghc-internal/src/GHC/Internal/Exception.hs:92:13 in ghc-internal:GHC.Internal.Exception\n",
      "  toExceptionWithBacktrace, called at libraries/ghc-internal/src/GHC/Internal/IO.hs:260:11 in ghc-internal:GHC.Internal.IO\n",
      "  throwIO, called at libraries/ghc-internal/src/GHC/Internal/IO/Exception.hs:315:19 in ghc-internal:GHC.Internal.IO.Exception\n",
      "  ioException, called at libraries/ghc-internal/src/GHC/Internal/IO/Exception.hs:319:20 in ghc-internal:GHC.Internal.IO.Exception\n",
      "\n",
      "\n",
      "pandoc: ./rfcs/RFC_ GPU compute budget guidelines - no limit but reassess when we hit 5k.docx: withBinaryFile: does not exist (No such file or directory)\n",
      "HasCallStack backtrace:\n",
      "  collectBacktraces, called at libraries/ghc-internal/src/GHC/Internal/Exception.hs:92:13 in ghc-internal:GHC.Internal.Exception\n",
      "  toExceptionWithBacktrace, called at libraries/ghc-internal/src/GHC/Internal/IO.hs:260:11 in ghc-internal:GHC.Internal.IO\n",
      "  throwIO, called at libraries/ghc-internal/src/GHC/Internal/IO/Exception.hs:315:19 in ghc-internal:GHC.Internal.IO.Exception\n",
      "  ioException, called at libraries/ghc-internal/src/GHC/Internal/IO/Exception.hs:319:20 in ghc-internal:GHC.Internal.IO.Exception\n",
      "\n",
      "\n",
      "pandoc: ./rfcs/RFC_ Increase Expense budget by 00 for more food on weekends.docx: withBinaryFile: does not exist (No such file or directory)\n",
      "HasCallStack backtrace:\n",
      "  collectBacktraces, called at libraries/ghc-internal/src/GHC/Internal/Exception.hs:92:13 in ghc-internal:GHC.Internal.Exception\n",
      "  toExceptionWithBacktrace, called at libraries/ghc-internal/src/GHC/Internal/IO.hs:260:11 in ghc-internal:GHC.Internal.IO\n",
      "  throwIO, called at libraries/ghc-internal/src/GHC/Internal/IO/Exception.hs:315:19 in ghc-internal:GHC.Internal.IO.Exception\n",
      "  ioException, called at libraries/ghc-internal/src/GHC/Internal/IO/Exception.hs:319:20 in ghc-internal:GHC.Internal.IO.Exception\n",
      "\n",
      "\n",
      "pandoc: ./rfcs/RFC_ Deposit 00 to hit tier 4 rate limits.docx: withBinaryFile: does not exist (No such file or directory)\n",
      "HasCallStack backtrace:\n",
      "  collectBacktraces, called at libraries/ghc-internal/src/GHC/Internal/Exception.hs:92:13 in ghc-internal:GHC.Internal.Exception\n",
      "  toExceptionWithBacktrace, called at libraries/ghc-internal/src/GHC/Internal/IO.hs:260:11 in ghc-internal:GHC.Internal.IO\n",
      "  throwIO, called at libraries/ghc-internal/src/GHC/Internal/IO/Exception.hs:315:19 in ghc-internal:GHC.Internal.IO.Exception\n",
      "  ioException, called at libraries/ghc-internal/src/GHC/Internal/IO/Exception.hs:319:20 in ghc-internal:GHC.Internal.IO.Exception\n",
      "\n",
      "\n",
      "pandoc: ./rfcs/RFC_ Addressing 5 rent raise - under T10.docx: withBinaryFile: does not exist (No such file or directory)\n",
      "HasCallStack backtrace:\n",
      "  collectBacktraces, called at libraries/ghc-internal/src/GHC/Internal/Exception.hs:92:13 in ghc-internal:GHC.Internal.Exception\n",
      "  toExceptionWithBacktrace, called at libraries/ghc-internal/src/GHC/Internal/IO.hs:260:11 in ghc-internal:GHC.Internal.IO\n",
      "  throwIO, called at libraries/ghc-internal/src/GHC/Internal/IO/Exception.hs:315:19 in ghc-internal:GHC.Internal.IO.Exception\n",
      "  ioException, called at libraries/ghc-internal/src/GHC/Internal/IO/Exception.hs:319:20 in ghc-internal:GHC.Internal.IO.Exception\n",
      "\n",
      "\n"
     ]
    }
   ],
   "source": [
    "import os\n",
    "\n",
    "rfc_files = os.listdir('./rfcs')\n",
    "for file in rfc_files:\n",
    "    # Use pandoc to convert docx to markdown\n",
    "    filename = os.path.splitext(file)[0]\n",
    "    os.system(f'pandoc -f docx -t markdown \"./rfcs/{file}\" -o \"./rfcs/{filename}.md\"')\n",
    "        "
   ]
  },
  {
   "cell_type": "code",
   "execution_count": 8,
   "metadata": {},
   "outputs": [],
   "source": [
    "import json\n",
    "import os\n",
    "\n",
    "markdown_files = [f for f in os.listdir('./rfcs') if f.endswith('.md')]\n",
    "\n",
    "with open('rfcs.jsonl', 'w') as outfile:\n",
    "    for md_file in markdown_files:\n",
    "        with open(f'./rfcs/{md_file}', 'r') as f:\n",
    "            content = f.read()\n",
    "            \n",
    "        # Create JSON object with filename and content\n",
    "        rfc_obj = {\n",
    "            'filename': md_file,\n",
    "            'content': content\n",
    "        }\n",
    "        \n",
    "        # Write JSON object as line to JSONL file\n",
    "        json.dump(rfc_obj, outfile)\n",
    "        outfile.write('\\n')\n"
   ]
  }
 ],
 "metadata": {
  "kernelspec": {
   "display_name": "Python 3",
   "language": "python",
   "name": "python3"
  },
  "language_info": {
   "codemirror_mode": {
    "name": "ipython",
    "version": 3
   },
   "file_extension": ".py",
   "mimetype": "text/x-python",
   "name": "python",
   "nbconvert_exporter": "python",
   "pygments_lexer": "ipython3",
   "version": "3.10.16"
  }
 },
 "nbformat": 4,
 "nbformat_minor": 2
}
