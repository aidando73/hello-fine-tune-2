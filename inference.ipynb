{
 "cells": [
  {
   "cell_type": "code",
   "execution_count": null,
   "metadata": {},
   "outputs": [
    {
     "name": "stdout",
     "output_type": "stream",
     "text": [
      "<Response [404]>\n"
     ]
    },
    {
     "ename": "KeyError",
     "evalue": "'choices'",
     "output_type": "error",
     "traceback": [
      "\u001b[0;31m---------------------------------------------------------------------------\u001b[0m",
      "\u001b[0;31mKeyError\u001b[0m                                  Traceback (most recent call last)",
      "Cell \u001b[0;32mIn[2], line 36\u001b[0m\n\u001b[1;32m     34\u001b[0m response \u001b[38;5;241m=\u001b[39m requests\u001b[38;5;241m.\u001b[39mrequest(\u001b[38;5;124m\"\u001b[39m\u001b[38;5;124mPOST\u001b[39m\u001b[38;5;124m\"\u001b[39m, url, headers\u001b[38;5;241m=\u001b[39mheaders, data\u001b[38;5;241m=\u001b[39mjson\u001b[38;5;241m.\u001b[39mdumps(payload))\n\u001b[1;32m     35\u001b[0m \u001b[38;5;28mprint\u001b[39m(response)\n\u001b[0;32m---> 36\u001b[0m content \u001b[38;5;241m=\u001b[39m \u001b[43mresponse\u001b[49m\u001b[38;5;241;43m.\u001b[39;49m\u001b[43mjson\u001b[49m\u001b[43m(\u001b[49m\u001b[43m)\u001b[49m\u001b[43m[\u001b[49m\u001b[38;5;124;43m\"\u001b[39;49m\u001b[38;5;124;43mchoices\u001b[39;49m\u001b[38;5;124;43m\"\u001b[39;49m\u001b[43m]\u001b[49m[\u001b[38;5;241m0\u001b[39m][\u001b[38;5;124m\"\u001b[39m\u001b[38;5;124mmessage\u001b[39m\u001b[38;5;124m\"\u001b[39m][\u001b[38;5;124m\"\u001b[39m\u001b[38;5;124mcontent\u001b[39m\u001b[38;5;124m\"\u001b[39m]\n\u001b[1;32m     37\u001b[0m \u001b[38;5;28mprint\u001b[39m(content)\n\u001b[1;32m     39\u001b[0m \u001b[38;5;66;03m# Write evaluation dataset to markdown file\u001b[39;00m\n",
      "\u001b[0;31mKeyError\u001b[0m: 'choices'"
     ]
    }
   ],
   "source": [
    "MODEL_NAME=\"accounts/aidando73-e35261/models/llama-v3p1-8b-instruct-reasoning-messages-2\"\n",
    "simple_name=MODEL_NAME.split(\"/\")[-1]\n",
    "\n",
    "import requests\n",
    "import json\n",
    "import os\n",
    "import dotenv\n",
    "\n",
    "dotenv.load_dotenv()\n",
    "\n",
    "query = \"Explain to me photosynthesis\"\n",
    "\n",
    "url = \"https://api.fireworks.ai/inference/v1/chat/completions\"\n",
    "payload = {\n",
    "  \"model\": MODEL_NAME,\n",
    "  \"max_tokens\": 4000,\n",
    "  \"top_p\": 1,\n",
    "  \"top_k\": 40,\n",
    "  \"presence_penalty\": 0,\n",
    "  \"frequency_penalty\": 0,\n",
    "  \"temperature\": 0.6,\n",
    "  \"messages\": [\n",
    "    {\n",
    "      \"role\": \"user\",\n",
    "      \"content\": query\n",
    "    }\n",
    "  ]\n",
    "}\n",
    "headers = {\n",
    "  \"Accept\": \"application/json\",\n",
    "  \"Content-Type\": \"application/json\",\n",
    "  \"Authorization\": \"Bearer \" + os.getenv(\"FIREWORKS_API_KEY\")\n",
    "}\n",
    "response = requests.request(\"POST\", url, headers=headers, data=json.dumps(payload))\n",
    "content = response.json()[\"choices\"][0][\"message\"][\"content\"]\n",
    "print(content)\n",
    "\n",
    "# Write evaluation dataset to markdown file\n",
    "with open(f\"${simple_name}-responses.md\", 'a') as f:\n",
    "    f.write(\"\\n---\\n\\n\")\n",
    "    f.write(f\"### User\\n{query}\\n\\n\")\n",
    "    f.write(f\"### Assistant\\n{content}\\n\")"
   ]
  }
 ],
 "metadata": {
  "kernelspec": {
   "display_name": "Python 3",
   "language": "python",
   "name": "python3"
  },
  "language_info": {
   "codemirror_mode": {
    "name": "ipython",
    "version": 3
   },
   "file_extension": ".py",
   "mimetype": "text/x-python",
   "name": "python",
   "nbconvert_exporter": "python",
   "pygments_lexer": "ipython3",
   "version": "3.10.16"
  }
 },
 "nbformat": 4,
 "nbformat_minor": 2
}
