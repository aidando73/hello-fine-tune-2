{
 "cells": [
  {
   "cell_type": "code",
   "execution_count": 1,
   "metadata": {},
   "outputs": [
    {
     "data": {
      "text/html": [
       "<div>\n",
       "<style scoped>\n",
       "    .dataframe tbody tr th:only-of-type {\n",
       "        vertical-align: middle;\n",
       "    }\n",
       "\n",
       "    .dataframe tbody tr th {\n",
       "        vertical-align: top;\n",
       "    }\n",
       "\n",
       "    .dataframe thead th {\n",
       "        text-align: right;\n",
       "    }\n",
       "</style>\n",
       "<table border=\"1\" class=\"dataframe\">\n",
       "  <thead>\n",
       "    <tr style=\"text-align: right;\">\n",
       "      <th></th>\n",
       "      <th>conversation_hash</th>\n",
       "      <th>first_query</th>\n",
       "    </tr>\n",
       "  </thead>\n",
       "  <tbody>\n",
       "    <tr>\n",
       "      <th>0</th>\n",
       "      <td>34e6bc4f50a9cd0c5a5f947ddbb9824b</td>\n",
       "      <td>Hi there, Can you help me revise my love story...</td>\n",
       "    </tr>\n",
       "    <tr>\n",
       "      <th>1</th>\n",
       "      <td>e1dda5bd84cb41a924308748c112243c</td>\n",
       "      <td>[VARIABLE] = I want a very fast epic final bos...</td>\n",
       "    </tr>\n",
       "    <tr>\n",
       "      <th>2</th>\n",
       "      <td>7f780423584ccd13562f838ca9496b1d</td>\n",
       "      <td>You, ChatGPT, will be my prompt engineer. We w...</td>\n",
       "    </tr>\n",
       "    <tr>\n",
       "      <th>3</th>\n",
       "      <td>d9dbe9e0356aa594d9d20adb65f7ed3a</td>\n",
       "      <td>What is the derivative of ln((x+a)/(x+b)) with...</td>\n",
       "    </tr>\n",
       "    <tr>\n",
       "      <th>4</th>\n",
       "      <td>fb9210f01518ec83a7203ea51a23fc4c</td>\n",
       "      <td>can you predict the next thing in the followin...</td>\n",
       "    </tr>\n",
       "  </tbody>\n",
       "</table>\n",
       "</div>"
      ],
      "text/plain": [
       "                  conversation_hash  \\\n",
       "0  34e6bc4f50a9cd0c5a5f947ddbb9824b   \n",
       "1  e1dda5bd84cb41a924308748c112243c   \n",
       "2  7f780423584ccd13562f838ca9496b1d   \n",
       "3  d9dbe9e0356aa594d9d20adb65f7ed3a   \n",
       "4  fb9210f01518ec83a7203ea51a23fc4c   \n",
       "\n",
       "                                         first_query  \n",
       "0  Hi there, Can you help me revise my love story...  \n",
       "1  [VARIABLE] = I want a very fast epic final bos...  \n",
       "2  You, ChatGPT, will be my prompt engineer. We w...  \n",
       "3  What is the derivative of ln((x+a)/(x+b)) with...  \n",
       "4  can you predict the next thing in the followin...  "
      ]
     },
     "execution_count": 1,
     "metadata": {},
     "output_type": "execute_result"
    }
   ],
   "source": [
    "from datasets import load_dataset\n",
    "\n",
    "# Load the dataset from the JSONL file\n",
    "dataset = load_dataset('json', data_files='user_queries.jsonl')\n",
    "\n",
    "# Convert the dataset to a pandas DataFrame\n",
    "df = dataset['train'].to_pandas()\n",
    "\n",
    "df.head()"
   ]
  },
  {
   "cell_type": "code",
   "execution_count": 10,
   "metadata": {},
   "outputs": [
    {
     "name": "stdout",
     "output_type": "stream",
     "text": [
      "Current number of lines in reasoning-messages.jsonl: 84\n"
     ]
    },
    {
     "name": "stderr",
     "output_type": "stream",
     "text": [
      "100%|██████████| 16/16 [08:05<00:00, 30.32s/it]\n"
     ]
    }
   ],
   "source": [
    "import os\n",
    "from dotenv import load_dotenv\n",
    "import requests\n",
    "import json\n",
    "from tqdm import tqdm\n",
    "\n",
    "load_dotenv()\n",
    "\n",
    "# Get current number of lines in reasoning-messages.jsonl\n",
    "try:\n",
    "    with open('reasoning-messages.jsonl', 'r') as f:\n",
    "        num_lines = sum(1 for line in f)\n",
    "    print(f\"Current number of lines in reasoning-messages.jsonl: {num_lines}\")\n",
    "except FileNotFoundError:\n",
    "    print(\"reasoning-messages.jsonl does not exist yet\")\n",
    "    num_lines = 0\n",
    "\n",
    "# Iterate through each query in the DataFrame\n",
    "remaining = df.iloc[num_lines:]\n",
    "for index, row in tqdm(remaining.iterrows(), total=len(remaining)):\n",
    "    query = row['first_query']\n",
    "\n",
    "    url = \"https://api.fireworks.ai/inference/v1/chat/completions\"\n",
    "    payload = {\n",
    "    \"model\": \"accounts/fireworks/models/deepseek-r1\",\n",
    "    \"max_tokens\": 20480,\n",
    "    \"top_p\": 1,\n",
    "    \"top_k\": 40,\n",
    "    \"presence_penalty\": 0,\n",
    "    \"frequency_penalty\": 0,\n",
    "    \"temperature\": 0.6,\n",
    "    \"messages\": [\n",
    "        {\n",
    "        \"role\": \"user\",\n",
    "        \"content\": query\n",
    "        }\n",
    "    ]\n",
    "    }\n",
    "    headers = {\n",
    "    \"Accept\": \"application/json\",\n",
    "    \"Content-Type\": \"application/json\",\n",
    "    \"Authorization\": \"Bearer \" + os.getenv(\"FIREWORKS_API_KEY\")\n",
    "    }\n",
    "    response = requests.request(\"POST\", url, headers=headers, data=json.dumps(payload))\n",
    "    res = response.json()['choices'][0]['message']['content']\n",
    "    output = [\n",
    "        {\n",
    "            \"role\": \"user\",\n",
    "            \"content\": query\n",
    "        },\n",
    "        {\n",
    "            \"role\": \"assistant\",\n",
    "            \"content\": res\n",
    "        }\n",
    "    ]\n",
    "    with open('reasoning-messages.jsonl', 'a') as f:\n",
    "        json.dump({\"messages\": output}, f)\n",
    "        f.write('\\n')\n",
    "\n",
    "# Start: $271.70\n",
    "# End: $"
   ]
  }
 ],
 "metadata": {
  "kernelspec": {
   "display_name": "Python 3",
   "language": "python",
   "name": "python3"
  },
  "language_info": {
   "codemirror_mode": {
    "name": "ipython",
    "version": 3
   },
   "file_extension": ".py",
   "mimetype": "text/x-python",
   "name": "python",
   "nbconvert_exporter": "python",
   "pygments_lexer": "ipython3",
   "version": "3.10.16"
  }
 },
 "nbformat": 4,
 "nbformat_minor": 2
}
