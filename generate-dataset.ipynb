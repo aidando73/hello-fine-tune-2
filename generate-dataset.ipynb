{
 "cells": [
  {
   "cell_type": "code",
   "execution_count": null,
   "metadata": {},
   "outputs": [
    {
     "data": {
      "application/vnd.jupyter.widget-view+json": {
       "model_id": "8dc84c8470154a0588ec920df3031e03",
       "version_major": 2,
       "version_minor": 0
      },
      "text/plain": [
       "train-00009-of-00014.parquet:  31%|###1      | 83.9M/269M [00:00<?, ?B/s]"
      ]
     },
     "metadata": {},
     "output_type": "display_data"
    },
    {
     "data": {
      "application/vnd.jupyter.widget-view+json": {
       "model_id": "c8876fd659fc4769bc6ebadd86c4ce8a",
       "version_major": 2,
       "version_minor": 0
      },
      "text/plain": [
       "train-00010-of-00014.parquet:   0%|          | 0.00/336M [00:00<?, ?B/s]"
      ]
     },
     "metadata": {},
     "output_type": "display_data"
    },
    {
     "data": {
      "application/vnd.jupyter.widget-view+json": {
       "model_id": "44c59358a7f847c9ab8c2b71f3e81a3b",
       "version_major": 2,
       "version_minor": 0
      },
      "text/plain": [
       "train-00011-of-00014.parquet:   0%|          | 0.00/300M [00:00<?, ?B/s]"
      ]
     },
     "metadata": {},
     "output_type": "display_data"
    },
    {
     "data": {
      "application/vnd.jupyter.widget-view+json": {
       "model_id": "e2189ad40bfd48d98518cca31e8a8dba",
       "version_major": 2,
       "version_minor": 0
      },
      "text/plain": [
       "train-00012-of-00014.parquet:   0%|          | 0.00/283M [00:00<?, ?B/s]"
      ]
     },
     "metadata": {},
     "output_type": "display_data"
    },
    {
     "data": {
      "application/vnd.jupyter.widget-view+json": {
       "model_id": "18fb39f0cc69489bb27c7664b97883e3",
       "version_major": 2,
       "version_minor": 0
      },
      "text/plain": [
       "train-00013-of-00014.parquet:   0%|          | 0.00/336M [00:00<?, ?B/s]"
      ]
     },
     "metadata": {},
     "output_type": "display_data"
    }
   ],
   "source": [
    "import datasets\n",
    "import os\n",
    "\n",
    "dataset = datasets.load_dataset(\"allenai/WildChat-1M\", split=\"train\")\n",
    "# dataset = datasets.load_dataset(\"lmsys/lmsys-chat-1m\", token=os.getenv(\"HUGGINGFACE_TOKEN\"), download_mode=\"force_redownload\")\n",
    "\n",
    "dataset[\"train\"][0]"
   ]
  },
  {
   "cell_type": "code",
   "execution_count": null,
   "metadata": {},
   "outputs": [],
   "source": [
    "import pandas as pd\n",
    "\n",
    "# Convert the dataset to a pandas DataFrame\n",
    "df = pd.DataFrame(dataset[\"train\"])\n",
    "\n",
    "# Display the first few rows\n",
    "df.head()"
   ]
  }
 ],
 "metadata": {
  "kernelspec": {
   "display_name": "Python 3",
   "language": "python",
   "name": "python3"
  },
  "language_info": {
   "codemirror_mode": {
    "name": "ipython",
    "version": 3
   },
   "file_extension": ".py",
   "mimetype": "text/x-python",
   "name": "python",
   "nbconvert_exporter": "python",
   "pygments_lexer": "ipython3",
   "version": "3.10.16"
  }
 },
 "nbformat": 4,
 "nbformat_minor": 2
}
