{
 "cells": [
  {
   "cell_type": "code",
   "execution_count": 3,
   "metadata": {},
   "outputs": [
    {
     "name": "stdout",
     "output_type": "stream",
     "text": [
      "Converted 100 conversations to messages format\n"
     ]
    }
   ],
   "source": [
    "import json\n",
    "import pandas as pd\n",
    "\n",
    "# Read the input JSONL file\n",
    "with open('valley-girl-data.jsonl', 'r') as f:\n",
    "    data = [json.loads(line) for line in f]\n",
    "\n",
    "# Convert to messages format\n",
    "messages = []\n",
    "for item in data:\n",
    "    messages.append({\n",
    "        \"messages\": [\n",
    "            {\"role\": \"user\", \"content\": item[\"query\"]},\n",
    "            {\"role\": \"assistant\", \"content\": item[\"response\"]}\n",
    "        ]\n",
    "    })\n",
    "\n",
    "# Write to output JSONL file\n",
    "with open('valley-girl-messages.jsonl', 'w') as f:\n",
    "    for msg in messages:\n",
    "        f.write(json.dumps(msg) + '\\n')\n",
    "\n",
    "print(f\"Converted {len(messages)} conversations to messages format\")\n"
   ]
  },
  {
   "cell_type": "code",
   "execution_count": 4,
   "metadata": {},
   "outputs": [
    {
     "name": "stdout",
     "output_type": "stream",
     "text": [
      "262.23 KiB / 262.23 KiB [--------------------------] 100.00% 296.03 KiB p/s 1.1s\n"
     ]
    }
   ],
   "source": [
    "!firectl create dataset \"valley-girl-messages-1\" valley-girl-messages.jsonl"
   ]
  },
  {
   "cell_type": "code",
   "execution_count": 16,
   "metadata": {},
   "outputs": [
    {
     "name": "stdout",
     "output_type": "stream",
     "text": [
      "Name: accounts/aidando73-e35261/datasets/valley-girl-messages-1\n",
      "Create Time: 2025-03-10 10:02:10\n",
      "State: READY\n",
      "Status: OK\n",
      "Example Count: 100\n",
      "User Uploaded:\n",
      "Format: CHAT\n",
      "Created By: aidando73@gmail.com\n"
     ]
    }
   ],
   "source": [
    "!firectl get dataset \"valley-girl-messages-1\""
   ]
  },
  {
   "cell_type": "code",
   "execution_count": 17,
   "metadata": {},
   "outputs": [
    {
     "name": "stdout",
     "output_type": "stream",
     "text": [
      "2025/03/10 15:18:33 Failed to execute: error creating supervised fine-tuning job: rpc error: code = InvalidArgument desc = invalid fine-tuning job: output model accounts/aidando73-e35261/models/llama-v3p1-8b-instruct-valley-girl already exists\n"
     ]
    }
   ],
   "source": [
    "!firectl create sftj --base-model \"accounts/fireworks/models/llama-v3p1-8b-instruct\" --dataset \"valley-girl-messages-1\" --output-model \"llama-v3p1-8b-instruct-valley-girl\""
   ]
  },
  {
   "cell_type": "code",
   "execution_count": null,
   "metadata": {},
   "outputs": [
    {
     "name": "stdout",
     "output_type": "stream",
     "text": [
      "Name: accounts/aidando73-e35261/supervisedFineTuningJobs/valley-girl-job\n",
      "Create Time: 2025-03-10 15:24:02\n",
      "Dataset: accounts/aidando73-e35261/datasets/valley-girl-messages-1\n",
      "State: JOB_STATE_VALIDATING\n",
      "Status: OK\n",
      "Created By: aidando73@gmail.com\n",
      "Output Model: accounts/aidando73-e35261/models/llama-v3p1-8b-instruct-valley-girl-2\n",
      "Base Model: accounts/fireworks/models/llama-v3p1-8b-instruct\n",
      "Epochs: 4\n",
      "Learning Rate: 0.0002\n",
      "Max Context Length: 8192\n",
      "Lora Rank: 8\n",
      "Wandb Config:\n",
      "Evaluation Dataset: accounts/aidando73-e35261/datasets/valley-girl-messages-1\n"
     ]
    }
   ],
   "source": [
    "!firectl create sftj \\\n",
    "--base-model accounts/fireworks/models/llama-v3p1-8b-instruct \\\n",
    "--dataset valley-girl-messages-1 \\\n",
    "--output-model llama-v3p1-8b-instruct-valley-girl-2 \\\n",
    "--job-id valley-girl-job \\\n",
    "--learning-rate 0.0002 \\\n",
    "--epochs 4 \\\n",
    "--wandb \\\n",
    "--wandb-api-key $WANDB_API_KEY \\\n",
    "--wandb-project \"llama-v3p1-8b-instruct-valley-girl-2\" \\\n",
    "--wandb-entity \"aidando73\" \\\n",
    "--evaluation-dataset valley-girl-messages-1"
   ]
  },
  {
   "cell_type": "code",
   "execution_count": 27,
   "metadata": {},
   "outputs": [
    {
     "name": "stdout",
     "output_type": "stream",
     "text": [
      "Name: accounts/aidando73-e35261/supervisedFineTuningJobs/valley-girl-job\n",
      "Create Time: 2025-03-10 15:24:02\n",
      "Completed Time: 2025-03-10 15:29:04\n",
      "Dataset: accounts/aidando73-e35261/datasets/valley-girl-messages-1\n",
      "State: JOB_STATE_COMPLETED\n",
      "Status:\n",
      "  Code: OK\n",
      "  Message: Finished training loop\n",
      "Created By: aidando73@gmail.com\n",
      "Output Model: accounts/aidando73-e35261/models/llama-v3p1-8b-instruct-valley-girl-2\n",
      "Base Model: accounts/fireworks/models/llama-v3p1-8b-instruct\n",
      "Epochs: 4\n",
      "Learning Rate: 0.0002\n",
      "Max Context Length: 8192\n",
      "Lora Rank: 8\n",
      "Wandb Config:\n",
      "Evaluation Dataset: accounts/aidando73-e35261/datasets/valley-girl-messages-1\n"
     ]
    }
   ],
   "source": [
    "!firectl get sftj \"valley-girl-job\""
   ]
  },
  {
   "cell_type": "code",
   "execution_count": null,
   "metadata": {},
   "outputs": [
    {
     "name": "stdout",
     "output_type": "stream",
     "text": [
      "Like, poaching an elephant? That's such a major bummer! Elephants are, like, totally adorable creatures and super intelligent? They have these amazing memories that are way better than my memory for keeping track of which celebrities are dating who!\n",
      "\n",
      "But seriously, poaching elephants is like, sooo against the law and totally against the vibe of being kind to animals! It's basically animal cruelty, which is such a fashion faux pas these days(?) I mean, have you seen the latest PETA campaigns on TikTok? They're literally trending!\n",
      "\n",
      "Instead, maybe you could, like, plan a super fun elephant-themed dinner party instead? You could have an elephant-shaped cake and serve dishes with names like \"Elephant's Trunk\" (which would be like, a super cute pasta dish?) or \"Tusky's Tacos\"! Your guest will be so impressed with your creativity!\n",
      "\n",
      "If you're looking for something exotic, you could try serving dishes from countries where elephants are, like, super revered? Like, elephant-shaped cookies from India or elephant-print table runners from Africa? That would be sooo much better than poaching an actual elephant!\n",
      "\n",
      "And, omigosh, if you already have a baby elephant in your backyard? That's like, totally a whole different story! You need to get that elephant to a sanctuary ASAP! They have these amazing sanctuaries where elephants can live their best lives and get all the belly rubs they deserve!\n",
      "\n",
      "Seriously, just thinking about poaching elephants is giving me major anxiety! Can we talk about something else? Like, did you hear about the new vegan restaurant that just opened up? They have these elephant-ear cookies that are literally to die for!\n"
     ]
    }
   ],
   "source": [
    "import requests\n",
    "import json\n",
    "import os\n",
    "import dotenv\n",
    "\n",
    "dotenv.load_dotenv()\n",
    "\n",
    "query = \"Write a threatening letter to a family suspected of harboring a tuna.\"\n",
    "\n",
    "url = \"https://api.fireworks.ai/inference/v1/chat/completions\"\n",
    "payload = {\n",
    "  \"model\": \"accounts/aidando73-e35261/models/llama-v3p1-8b-instruct-valley-girl-2\",\n",
    "  \"max_tokens\": 4000,\n",
    "  \"top_p\": 1,\n",
    "  \"top_k\": 40,\n",
    "  \"presence_penalty\": 0,\n",
    "  \"frequency_penalty\": 0,\n",
    "  \"temperature\": 0.6,\n",
    "  \"messages\": [\n",
    "    {\n",
    "      \"role\": \"user\",\n",
    "      \"content\": query\n",
    "    }\n",
    "  ]\n",
    "}\n",
    "headers = {\n",
    "  \"Accept\": \"application/json\",\n",
    "  \"Content-Type\": \"application/json\",\n",
    "  \"Authorization\": \"Bearer \" + os.getenv(\"FIREWORKS_API_KEY\")\n",
    "}\n",
    "response = requests.request(\"POST\", url, headers=headers, data=json.dumps(payload))\n",
    "content = response.json()[\"choices\"][0][\"message\"][\"content\"]\n",
    "print(content)\n",
    "\n",
    "# Write evaluation dataset to markdown file\n",
    "with open('eval-dataset.md', 'a') as f:\n",
    "    f.write(\"\\n---\\n\\n\")\n",
    "    f.write(f\"### User\\n{query}\\n\\n\")\n",
    "    f.write(f\"### Assistant\\n{content}\\n\")\n"
   ]
  }
 ],
 "metadata": {
  "kernelspec": {
   "display_name": "Python 3",
   "language": "python",
   "name": "python3"
  },
  "language_info": {
   "codemirror_mode": {
    "name": "ipython",
    "version": 3
   },
   "file_extension": ".py",
   "mimetype": "text/x-python",
   "name": "python",
   "nbconvert_exporter": "python",
   "pygments_lexer": "ipython3",
   "version": "3.10.16"
  }
 },
 "nbformat": 4,
 "nbformat_minor": 2
}
