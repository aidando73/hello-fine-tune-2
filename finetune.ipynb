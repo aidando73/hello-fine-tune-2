{
 "cells": [
  {
   "cell_type": "code",
   "execution_count": 3,
   "metadata": {},
   "outputs": [
    {
     "name": "stdout",
     "output_type": "stream",
     "text": [
      "Converted 100 conversations to messages format\n"
     ]
    }
   ],
   "source": [
    "import json\n",
    "import pandas as pd\n",
    "\n",
    "# Read the input JSONL file\n",
    "with open('valley-girl-data.jsonl', 'r') as f:\n",
    "    data = [json.loads(line) for line in f]\n",
    "\n",
    "# Convert to messages format\n",
    "messages = []\n",
    "for item in data:\n",
    "    messages.append({\n",
    "        \"messages\": [\n",
    "            {\"role\": \"user\", \"content\": item[\"query\"]},\n",
    "            {\"role\": \"assistant\", \"content\": item[\"response\"]}\n",
    "        ]\n",
    "    })\n",
    "\n",
    "# Write to output JSONL file\n",
    "with open('valley-girl-messages.jsonl', 'w') as f:\n",
    "    for msg in messages:\n",
    "        f.write(json.dumps(msg) + '\\n')\n",
    "\n",
    "print(f\"Converted {len(messages)} conversations to messages format\")\n"
   ]
  }
 ],
 "metadata": {
  "kernelspec": {
   "display_name": "Python 3",
   "language": "python",
   "name": "python3"
  },
  "language_info": {
   "codemirror_mode": {
    "name": "ipython",
    "version": 3
   },
   "file_extension": ".py",
   "mimetype": "text/x-python",
   "name": "python",
   "nbconvert_exporter": "python",
   "pygments_lexer": "ipython3",
   "version": "3.10.16"
  }
 },
 "nbformat": 4,
 "nbformat_minor": 2
}
