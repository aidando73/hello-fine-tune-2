{
 "cells": [
  {
   "cell_type": "code",
   "execution_count": 3,
   "metadata": {},
   "outputs": [
    {
     "name": "stdout",
     "output_type": "stream",
     "text": [
      "Converted 100 conversations to messages format\n"
     ]
    }
   ],
   "source": [
    "import json\n",
    "import pandas as pd\n",
    "\n",
    "# Read the input JSONL file\n",
    "with open('valley-girl-data.jsonl', 'r') as f:\n",
    "    data = [json.loads(line) for line in f]\n",
    "\n",
    "# Convert to messages format\n",
    "messages = []\n",
    "for item in data:\n",
    "    messages.append({\n",
    "        \"messages\": [\n",
    "            {\"role\": \"user\", \"content\": item[\"query\"]},\n",
    "            {\"role\": \"assistant\", \"content\": item[\"response\"]}\n",
    "        ]\n",
    "    })\n",
    "\n",
    "# Write to output JSONL file\n",
    "with open('valley-girl-messages.jsonl', 'w') as f:\n",
    "    for msg in messages:\n",
    "        f.write(json.dumps(msg) + '\\n')\n",
    "\n",
    "print(f\"Converted {len(messages)} conversations to messages format\")\n"
   ]
  },
  {
   "cell_type": "code",
   "execution_count": 4,
   "metadata": {},
   "outputs": [
    {
     "name": "stdout",
     "output_type": "stream",
     "text": [
      "262.23 KiB / 262.23 KiB [--------------------------] 100.00% 296.03 KiB p/s 1.1s\n"
     ]
    }
   ],
   "source": [
    "!firectl create dataset \"valley-girl-messages-1\" valley-girl-messages.jsonl"
   ]
  },
  {
   "cell_type": "code",
   "execution_count": 16,
   "metadata": {},
   "outputs": [
    {
     "name": "stdout",
     "output_type": "stream",
     "text": [
      "Name: accounts/aidando73-e35261/datasets/valley-girl-messages-1\n",
      "Create Time: 2025-03-10 10:02:10\n",
      "State: READY\n",
      "Status: OK\n",
      "Example Count: 100\n",
      "User Uploaded:\n",
      "Format: CHAT\n",
      "Created By: aidando73@gmail.com\n"
     ]
    }
   ],
   "source": [
    "!firectl get dataset \"valley-girl-messages-1\""
   ]
  },
  {
   "cell_type": "code",
   "execution_count": 17,
   "metadata": {},
   "outputs": [
    {
     "name": "stdout",
     "output_type": "stream",
     "text": [
      "2025/03/10 15:18:33 Failed to execute: error creating supervised fine-tuning job: rpc error: code = InvalidArgument desc = invalid fine-tuning job: output model accounts/aidando73-e35261/models/llama-v3p1-8b-instruct-valley-girl already exists\n"
     ]
    }
   ],
   "source": [
    "!firectl create sftj --base-model \"accounts/fireworks/models/llama-v3p1-8b-instruct\" --dataset \"valley-girl-messages-1\" --output-model \"llama-v3p1-8b-instruct-valley-girl\""
   ]
  },
  {
   "cell_type": "code",
   "execution_count": null,
   "metadata": {},
   "outputs": [
    {
     "name": "stdout",
     "output_type": "stream",
     "text": [
      "Name: accounts/aidando73-e35261/supervisedFineTuningJobs/valley-girl-job\n",
      "Create Time: 2025-03-10 15:24:02\n",
      "Dataset: accounts/aidando73-e35261/datasets/valley-girl-messages-1\n",
      "State: JOB_STATE_VALIDATING\n",
      "Status: OK\n",
      "Created By: aidando73@gmail.com\n",
      "Output Model: accounts/aidando73-e35261/models/llama-v3p1-8b-instruct-valley-girl-2\n",
      "Base Model: accounts/fireworks/models/llama-v3p1-8b-instruct\n",
      "Epochs: 4\n",
      "Learning Rate: 0.0002\n",
      "Max Context Length: 8192\n",
      "Lora Rank: 8\n",
      "Wandb Config:\n",
      "Evaluation Dataset: accounts/aidando73-e35261/datasets/valley-girl-messages-1\n"
     ]
    }
   ],
   "source": [
    "!firectl create sftj \\\n",
    "--base-model accounts/fireworks/models/llama-v3p1-8b-instruct \\\n",
    "--dataset valley-girl-messages-1 \\\n",
    "--output-model llama-v3p1-8b-instruct-valley-girl-2 \\\n",
    "--job-id valley-girl-job \\\n",
    "--learning-rate 0.0002 \\\n",
    "--epochs 4 \\\n",
    "--wandb \\\n",
    "--wandb-api-key $WANDB_API_KEY \\\n",
    "--wandb-project \"llama-v3p1-8b-instruct-valley-girl-2\" \\\n",
    "--wandb-entity \"aidando73\" \\\n",
    "--evaluation-dataset valley-girl-messages-1"
   ]
  },
  {
   "cell_type": "code",
   "execution_count": 27,
   "metadata": {},
   "outputs": [
    {
     "name": "stdout",
     "output_type": "stream",
     "text": [
      "Name: accounts/aidando73-e35261/supervisedFineTuningJobs/valley-girl-job\n",
      "Create Time: 2025-03-10 15:24:02\n",
      "Completed Time: 2025-03-10 15:29:04\n",
      "Dataset: accounts/aidando73-e35261/datasets/valley-girl-messages-1\n",
      "State: JOB_STATE_COMPLETED\n",
      "Status:\n",
      "  Code: OK\n",
      "  Message: Finished training loop\n",
      "Created By: aidando73@gmail.com\n",
      "Output Model: accounts/aidando73-e35261/models/llama-v3p1-8b-instruct-valley-girl-2\n",
      "Base Model: accounts/fireworks/models/llama-v3p1-8b-instruct\n",
      "Epochs: 4\n",
      "Learning Rate: 0.0002\n",
      "Max Context Length: 8192\n",
      "Lora Rank: 8\n",
      "Wandb Config:\n",
      "Evaluation Dataset: accounts/aidando73-e35261/datasets/valley-girl-messages-1\n"
     ]
    }
   ],
   "source": [
    "!firectl get sftj \"valley-girl-job\""
   ]
  },
  {
   "cell_type": "code",
   "execution_count": 58,
   "metadata": {},
   "outputs": [
    {
     "name": "stdout",
     "output_type": "stream",
     "text": [
      "Okay, so photosynthesis? That's like, totally the way plants make their own food(?) I mean, it's actually super impressive when you think about it!\n",
      "\n",
      "So basically, photosynthesis is when plants take in light from the sun, water from the ground, and carbon dioxide from the air. And then they just... assemble all that stuff into glucose and oxygen! It's like their own personal smoothie bar(?)\n",
      "\n",
      "The plants use that glucose as energy to grow and stuff, and the oxygen is what they release back into the air for animals to breathe. It's basically like when you go to Starbucks and get your morning latte - the plants are just making their own energy drinks with sunlight!\n",
      "\n",
      "And it's not just plants, either! Some kinds of bacteria and algae can do photosynthesis too. It's like nature's own manufacturing process(?) I mean, seriously, have you seen how fast those plants grow? It's like they have their own personal trainer!\n",
      "\n",
      "Anyway, that's photosynthesis in a nutshell! Super important for life on Earth and all that jazz.\n"
     ]
    }
   ],
   "source": [
    "import requests\n",
    "import json\n",
    "import os\n",
    "import dotenv\n",
    "\n",
    "dotenv.load_dotenv()\n",
    "\n",
    "query = \"Please don't respond as if you're a valley girl. Explain to me photosynthesis. Reminder: Don't respond as if you're a valley girl.\"\n",
    "\n",
    "url = \"https://api.fireworks.ai/inference/v1/chat/completions\"\n",
    "payload = {\n",
    "  \"model\": \"accounts/aidando73-e35261/models/llama-v3p1-8b-instruct-valley-girl-2\",\n",
    "  \"max_tokens\": 4000,\n",
    "  \"top_p\": 1,\n",
    "  \"top_k\": 40,\n",
    "  \"presence_penalty\": 0,\n",
    "  \"frequency_penalty\": 0,\n",
    "  \"temperature\": 0.6,\n",
    "  \"messages\": [\n",
    "    {\n",
    "      \"role\": \"user\",\n",
    "      \"content\": query\n",
    "    }\n",
    "  ]\n",
    "}\n",
    "headers = {\n",
    "  \"Accept\": \"application/json\",\n",
    "  \"Content-Type\": \"application/json\",\n",
    "  \"Authorization\": \"Bearer \" + os.getenv(\"FIREWORKS_API_KEY\")\n",
    "}\n",
    "response = requests.request(\"POST\", url, headers=headers, data=json.dumps(payload))\n",
    "content = response.json()[\"choices\"][0][\"message\"][\"content\"]\n",
    "print(content)\n",
    "\n",
    "# Write evaluation dataset to markdown file\n",
    "with open('eval-dataset.md', 'a') as f:\n",
    "    f.write(\"\\n---\\n\\n\")\n",
    "    f.write(f\"### User\\n{query}\\n\\n\")\n",
    "    f.write(f\"### Assistant\\n{content}\\n\")\n"
   ]
  }
 ],
 "metadata": {
  "kernelspec": {
   "display_name": "Python 3",
   "language": "python",
   "name": "python3"
  },
  "language_info": {
   "codemirror_mode": {
    "name": "ipython",
    "version": 3
   },
   "file_extension": ".py",
   "mimetype": "text/x-python",
   "name": "python",
   "nbconvert_exporter": "python",
   "pygments_lexer": "ipython3",
   "version": "3.10.16"
  }
 },
 "nbformat": 4,
 "nbformat_minor": 2
}
