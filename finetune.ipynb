{
 "cells": [
  {
   "cell_type": "code",
   "execution_count": 3,
   "metadata": {},
   "outputs": [
    {
     "name": "stdout",
     "output_type": "stream",
     "text": [
      "Converted 100 conversations to messages format\n"
     ]
    }
   ],
   "source": [
    "import json\n",
    "import pandas as pd\n",
    "\n",
    "# Read the input JSONL file\n",
    "with open('valley-girl-data.jsonl', 'r') as f:\n",
    "    data = [json.loads(line) for line in f]\n",
    "\n",
    "# Convert to messages format\n",
    "messages = []\n",
    "for item in data:\n",
    "    messages.append({\n",
    "        \"messages\": [\n",
    "            {\"role\": \"user\", \"content\": item[\"query\"]},\n",
    "            {\"role\": \"assistant\", \"content\": item[\"response\"]}\n",
    "        ]\n",
    "    })\n",
    "\n",
    "# Write to output JSONL file\n",
    "with open('valley-girl-messages.jsonl', 'w') as f:\n",
    "    for msg in messages:\n",
    "        f.write(json.dumps(msg) + '\\n')\n",
    "\n",
    "print(f\"Converted {len(messages)} conversations to messages format\")\n"
   ]
  },
  {
   "cell_type": "code",
   "execution_count": 4,
   "metadata": {},
   "outputs": [
    {
     "name": "stdout",
     "output_type": "stream",
     "text": [
      "262.23 KiB / 262.23 KiB [--------------------------] 100.00% 296.03 KiB p/s 1.1s\n"
     ]
    }
   ],
   "source": [
    "!firectl create dataset \"valley-girl-messages-1\" valley-girl-messages.jsonl"
   ]
  },
  {
   "cell_type": "code",
   "execution_count": 5,
   "metadata": {},
   "outputs": [
    {
     "name": "stdout",
     "output_type": "stream",
     "text": [
      "Name: accounts/aidando73-e35261/datasets/valley-girl-messages-1\n",
      "Create Time: 2025-03-10 10:02:10\n",
      "State: READY\n",
      "Status: OK\n",
      "Example Count: 100\n",
      "User Uploaded:\n",
      "Format: CHAT\n",
      "Created By: aidando73@gmail.com\n"
     ]
    }
   ],
   "source": [
    "!firectl get dataset \"valley-girl-messages-1\""
   ]
  },
  {
   "cell_type": "code",
   "execution_count": null,
   "metadata": {},
   "outputs": [],
   "source": []
  }
 ],
 "metadata": {
  "kernelspec": {
   "display_name": "Python 3",
   "language": "python",
   "name": "python3"
  },
  "language_info": {
   "codemirror_mode": {
    "name": "ipython",
    "version": 3
   },
   "file_extension": ".py",
   "mimetype": "text/x-python",
   "name": "python",
   "nbconvert_exporter": "python",
   "pygments_lexer": "ipython3",
   "version": "3.10.16"
  }
 },
 "nbformat": 4,
 "nbformat_minor": 2
}
