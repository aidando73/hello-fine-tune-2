{
 "cells": [
  {
   "cell_type": "code",
   "execution_count": 7,
   "metadata": {},
   "outputs": [],
   "source": [
    "dataset_file_name = \"reasoning-messages\""
   ]
  },
  {
   "cell_type": "code",
   "execution_count": 14,
   "metadata": {},
   "outputs": [
    {
     "name": "stdout",
     "output_type": "stream",
     "text": [
      "898.49 KiB / 898.49 KiB [--------------------------] 100.00% 641.87 KiB p/s 1.6s\n"
     ]
    }
   ],
   "source": [
    "dataset_path = f\"./{dataset_file_name}.jsonl\"\n",
    "!firectl create dataset -- {dataset_file_name} {dataset_path}"
   ]
  },
  {
   "cell_type": "code",
   "execution_count": 15,
   "metadata": {},
   "outputs": [
    {
     "name": "stdout",
     "output_type": "stream",
     "text": [
      "Name: accounts/aidando73-e35261/datasets/reasoning-messages\n",
      "Create Time: 2025-03-10 21:41:15\n",
      "State: READY\n",
      "Status: OK\n",
      "Example Count: 100\n",
      "User Uploaded:\n",
      "Format: CHAT\n",
      "Created By: aidando73@gmail.com\n"
     ]
    }
   ],
   "source": [
    "!firectl get dataset {dataset_file_name}"
   ]
  },
  {
   "cell_type": "code",
   "execution_count": 24,
   "metadata": {},
   "outputs": [
    {
     "name": "stdout",
     "output_type": "stream",
     "text": [
      "Name: accounts/aidando73-e35261/supervisedFineTuningJobs/63660b36\n",
      "Create Time: 2025-03-10 21:52:12\n",
      "Dataset: accounts/aidando73-e35261/datasets/reasoning-messages\n",
      "State: JOB_STATE_VALIDATING\n",
      "Status: OK\n",
      "Created By: aidando73@gmail.com\n",
      "Output Model: accounts/aidando73-e35261/models/llama-v3p1-8b-instruct-reasoning-messages-2\n",
      "Base Model: accounts/fireworks/models/llama-v3p1-8b-instruct\n",
      "Epochs: 4\n",
      "Learning Rate: 0.0002\n",
      "Max Context Length: 8192\n",
      "Lora Rank: 8\n",
      "Wandb Config:\n",
      "  Enabled: true\n",
      "  Api Key: accounts/aidando73-e35261/secrets/63660b36-wandb-key\n",
      "  Project: llama-v3p1-8b-instruct-reasoning-messages-2\n",
      "  Entity: aidando73-personal\n",
      "  Url: https://wandb.ai/aidando73-personal/llama-v3p1-8b-instruct-reasoning-messages-2/runs/63660b36\n",
      "Evaluation Dataset: accounts/aidando73-e35261/datasets/reasoning-messages\n"
     ]
    }
   ],
   "source": [
    "from dotenv import load_dotenv\n",
    "import os\n",
    "\n",
    "load_dotenv()\n",
    "\n",
    "WANDB_API_KEY = os.getenv(\"WANDB_API_KEY\")\n",
    "\n",
    "ATTEMPT=2\n",
    "\n",
    "!firectl create sftj \\\n",
    "--base-model accounts/fireworks/models/llama-v3p1-8b-instruct \\\n",
    "--dataset $dataset_file_name \\\n",
    "--output-model llama-v3p1-8b-instruct-$dataset_file_name-$ATTEMPT \\\n",
    "--learning-rate 0.0002 \\\n",
    "--epochs 4 \\\n",
    "--wandb \\\n",
    "--wandb-api-key $WANDB_API_KEY \\\n",
    "--wandb-project \"llama-v3p1-8b-instruct-\"$dataset_file_name-$ATTEMPT \\\n",
    "--wandb-entity \"aidando73-personal\" \\\n",
    "--evaluation-dataset $dataset_file_name"
   ]
  },
  {
   "cell_type": "code",
   "execution_count": 25,
   "metadata": {},
   "outputs": [
    {
     "name": "stdout",
     "output_type": "stream",
     "text": [
      "Name: accounts/aidando73-e35261/supervisedFineTuningJobs/035390b8\n",
      "Create Time: 2025-03-10 21:43:30\n",
      "Dataset: accounts/aidando73-e35261/datasets/valley-girl-messages-1\n",
      "State: JOB_STATE_FAILED\n",
      "Status:\n",
      "  Code: FAILED_PRECONDITION\n",
      "  Message: ('Failed to init wandb, reason: failed to upsert bucket: returned error 403: {\"data\":{\"upsertBucket\":null},\"errors\":[{\"message\":\"permission denied\",\"path\":[\"upsertBucket\"],\"extensions\":{\"code\":\"PERMISSION_ERROR\"}}]}', CommError('failed to upsert bucket: returned error 403: {\"data\":{\"upsertBucket\":null},\"errors\":[{\"message\":\"permission denied\",\"path\":[\"upsertBucket\"],\"extensions\":{\"code\":\"PERMISSION_ERROR\"}}]}'))\n",
      "Created By: aidando73@gmail.com\n",
      "Output Model: accounts/aidando73-e35261/models/llama-v3p1-8b-instruct-reasoning-messages\n",
      "Base Model: accounts/fireworks/models/llama-v3p1-8b-instruct\n",
      "Epochs: 4\n",
      "Learning Rate: 0.0002\n",
      "Max Context Length: 8192\n",
      "Lora Rank: 8\n",
      "Wandb Config:\n",
      "  Enabled: true\n",
      "  Api Key: acdff15ecf7815b71664a27d45eaeafadbbc70dd\n",
      "  Project: llama-v3p1-8b-instruct-reasoning-messages\n",
      "  Entity: aidando73\n",
      "  Url: https://wandb.ai/aidando73/llama-v3p1-8b-instruct-reasoning-messages/runs/035390b8\n",
      "Evaluation Dataset: accounts/aidando73-e35261/datasets/reasoning-messages\n"
     ]
    }
   ],
   "source": [
    "!firectl get sftj 63660b36"
   ]
  }
 ],
 "metadata": {
  "kernelspec": {
   "display_name": "Python 3",
   "language": "python",
   "name": "python3"
  },
  "language_info": {
   "codemirror_mode": {
    "name": "ipython",
    "version": 3
   },
   "file_extension": ".py",
   "mimetype": "text/x-python",
   "name": "python",
   "nbconvert_exporter": "python",
   "pygments_lexer": "ipython3",
   "version": "3.10.16"
  }
 },
 "nbformat": 4,
 "nbformat_minor": 2
}
